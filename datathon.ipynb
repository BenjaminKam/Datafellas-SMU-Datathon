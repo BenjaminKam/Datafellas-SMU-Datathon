{
 "cells": [
  {
   "cell_type": "markdown",
   "id": "23350073",
   "metadata": {},
   "source": [
    "Dataset Cleaning"
   ]
  },
  {
   "cell_type": "code",
   "execution_count": 1,
   "id": "fc3c5cfc",
   "metadata": {},
   "outputs": [],
   "source": [
    "# Import the necessary libraries\n",
    "\n",
    "import spacy\n",
    "import spacy.cli\n",
    "import pandas as pd\n",
    "import string\n",
    "import re\n",
    "import nltk\n",
    "from nltk.corpus import stopwords\n",
    "from nltk.tokenize import word_tokenize, sent_tokenize\n",
    "from contractions import fix\n",
    "from nltk.corpus import wordnet"
   ]
  },
  {
   "cell_type": "code",
   "execution_count": 2,
   "id": "7993d2e6",
   "metadata": {},
   "outputs": [
    {
     "name": "stderr",
     "output_type": "stream",
     "text": [
      "[nltk_data] Downloading package stopwords to C:\\Users\\Benjamin\n",
      "[nltk_data]     Kam\\AppData\\Roaming\\nltk_data...\n",
      "[nltk_data]   Package stopwords is already up-to-date!\n",
      "[nltk_data] Downloading package punkt to C:\\Users\\Benjamin\n",
      "[nltk_data]     Kam\\AppData\\Roaming\\nltk_data...\n",
      "[nltk_data]   Package punkt is already up-to-date!\n",
      "[nltk_data] Downloading package wordnet to C:\\Users\\Benjamin\n",
      "[nltk_data]     Kam\\AppData\\Roaming\\nltk_data...\n",
      "[nltk_data]   Package wordnet is already up-to-date!\n"
     ]
    },
    {
     "data": {
      "text/plain": [
       "True"
      ]
     },
     "execution_count": 2,
     "metadata": {},
     "output_type": "execute_result"
    }
   ],
   "source": [
    "# Download necessary resources\n",
    "nltk.download('stopwords')\n",
    "nltk.download('punkt')\n",
    "nltk.download('wordnet')"
   ]
  },
  {
   "cell_type": "code",
   "execution_count": 3,
   "id": "9c5d9509",
   "metadata": {},
   "outputs": [],
   "source": [
    "# Load SpaCy model (download if not already installed)\n",
    "try:\n",
    "    nlp = spacy.load(\"en_core_web_sm\")\n",
    "except OSError:\n",
    "    print(\"Downloading 'en_core_web_sm' model...\")\n",
    "    spacy.cli.download(\"en_core_web_sm\")\n",
    "    nlp = spacy.load(\"en_core_web_sm\")"
   ]
  },
  {
   "cell_type": "code",
   "execution_count": 4,
   "id": "30ee546d",
   "metadata": {},
   "outputs": [],
   "source": [
    "# Set of stop words\n",
    "stop_words = set(stopwords.words('english'))"
   ]
  },
  {
   "cell_type": "code",
   "execution_count": 5,
   "id": "df17fa73",
   "metadata": {},
   "outputs": [],
   "source": [
    "# Abbreviation mapping\n",
    "abbreviation_map = {\n",
    "    \"isd\": \"internal security department\",\n",
    "    \"ltd\": \"limited\",\n",
    "    \"ml\": \"machine learning\",\n",
    "}"
   ]
  },
  {
   "cell_type": "code",
   "execution_count": 6,
   "id": "26ae664d",
   "metadata": {},
   "outputs": [],
   "source": [
    "# Domain-specific stopwords\n",
    "domain_stopwords = {\"report\", \"file\", \"document\", \"record\"}"
   ]
  },
  {
   "cell_type": "code",
   "execution_count": 7,
   "id": "1f68296c",
   "metadata": {},
   "outputs": [],
   "source": [
    "# Function to clean and preprocess text\n",
    "def preprocess_text(text):\n",
    "    if isinstance(text, str):\n",
    "        # Expand contractions\n",
    "        text = fix(text)\n",
    "        # Convert to lowercase\n",
    "        text = text.lower()\n",
    "        # Normalize abbreviations\n",
    "        words = text.split()\n",
    "        text = \" \".join([abbreviation_map.get(word, word) for word in words])\n",
    "        # Remove punctuation\n",
    "        text = text.translate(str.maketrans('', '', string.punctuation))\n",
    "        # Remove standalone numbers (but retain numbers in meaningful patterns)\n",
    "        text = re.sub(r'\\b\\d+\\b', '', text)\n",
    "        # Normalize currency (e.g., \"€4278\" -> \"4278 euros\")\n",
    "        text = re.sub(r'€(\\d+)', r'\\1 euros', text)\n",
    "        # Remove stop words\n",
    "        text = \" \".join([word for word in text.split() if word not in stop_words and word not in domain_stopwords])\n",
    "        return text\n",
    "    return text  # Return as is for non-string inputs"
   ]
  },
  {
   "cell_type": "code",
   "execution_count": 8,
   "id": "1ce72742",
   "metadata": {},
   "outputs": [],
   "source": [
    "# Function to lemmatize text\n",
    "def lemmatize_text(text):\n",
    "    if isinstance(text, str):\n",
    "        doc = nlp(text)\n",
    "        return \" \".join([token.lemma_ for token in doc])\n",
    "    return text"
   ]
  },
  {
   "cell_type": "code",
   "execution_count": 9,
   "id": "f3e3a1f6",
   "metadata": {},
   "outputs": [],
   "source": [
    "# Function to tokenize text into words\n",
    "def tokenize_text(text):\n",
    "    if isinstance(text, str):\n",
    "        tokens = word_tokenize(text)\n",
    "        return tokens\n",
    "    return []"
   ]
  },
  {
   "cell_type": "code",
   "execution_count": 10,
   "id": "9eb2c289",
   "metadata": {},
   "outputs": [],
   "source": [
    "# Function to segment text into sentences\n",
    "def segment_sentences(text):\n",
    "    if isinstance(text, str):\n",
    "        sentences = sent_tokenize(text)\n",
    "        return sentences\n",
    "    return []"
   ]
  },
  {
   "cell_type": "code",
   "execution_count": 11,
   "id": "2879fc10",
   "metadata": {},
   "outputs": [],
   "source": [
    "# Function to extract dependency relations\n",
    "def extract_dependency_relations(text):\n",
    "    if isinstance(text, str):\n",
    "        doc = nlp(text)\n",
    "        relations = [(token.text, token.dep_, token.head.text) for token in doc]\n",
    "        return relations\n",
    "    return []"
   ]
  },
  {
   "cell_type": "markdown",
   "id": "ca31974d",
   "metadata": {},
   "source": [
    "Preprocessing datasets"
   ]
  },
  {
   "cell_type": "code",
   "execution_count": 12,
   "id": "e61eec42",
   "metadata": {},
   "outputs": [],
   "source": [
    "# Load the Excel file\n",
    "file_path = 'wikileaks_parsed.xlsx'  # Replace with your file path\n",
    "df = pd.read_excel(file_path)"
   ]
  },
  {
   "cell_type": "code",
   "execution_count": 13,
   "id": "87db349d",
   "metadata": {},
   "outputs": [],
   "source": [
    "# Apply preprocessing steps\n",
    "df['Cleaned_Text'] = df['Text'].apply(preprocess_text)\n",
    "df['Lemmatized_Text'] = df['Cleaned_Text'].apply(lemmatize_text)\n",
    "df['Tokenized_Text'] = df['Lemmatized_Text'].apply(tokenize_text)\n",
    "df['Cleaned_Sentences'] = df['Cleaned_Text'].apply(segment_sentences)\n",
    "df['Dependency_Relations'] = df['Cleaned_Text'].apply(extract_dependency_relations)"
   ]
  },
  {
   "cell_type": "code",
   "execution_count": 14,
   "id": "6db364d7",
   "metadata": {},
   "outputs": [],
   "source": [
    "# Save intermediate output to Excel\n",
    "output_file_path = 'preprocessed_text.xlsx'\n",
    "df.to_excel(output_file_path, index=False)"
   ]
  },
  {
   "cell_type": "code",
   "execution_count": 15,
   "id": "98c123c8",
   "metadata": {},
   "outputs": [],
   "source": [
    "# Function to extract named entities\n",
    "def extract_entities(text):\n",
    "    if isinstance(text, str):\n",
    "        doc = nlp(text)\n",
    "        entities = [(ent.text, ent.label_) for ent in doc.ents]\n",
    "        return entities\n",
    "    return []"
   ]
  },
  {
   "cell_type": "markdown",
   "id": "4c08ad44",
   "metadata": {},
   "source": [
    "Entity extraction"
   ]
  },
  {
   "cell_type": "code",
   "execution_count": 16,
   "id": "bb56c856",
   "metadata": {},
   "outputs": [],
   "source": [
    "# Apply Named Entity Recognition (NER)\n",
    "df['Entities'] = df['Cleaned_Text'].apply(extract_entities)"
   ]
  },
  {
   "cell_type": "code",
   "execution_count": 17,
   "id": "db7c2a14",
   "metadata": {},
   "outputs": [],
   "source": [
    "# Simplify entities for readability\n",
    "def simplify_entities(entities):\n",
    "    if isinstance(entities, list) and all(isinstance(e, tuple) for e in entities):\n",
    "        return \"; \".join([f\"{ent[0]} ({ent[1]})\" for ent in entities])\n",
    "    return \"No entities found\"\n",
    "\n",
    "df['Simplified_Entities'] = df['Entities'].apply(simplify_entities)"
   ]
  },
  {
   "cell_type": "code",
   "execution_count": 18,
   "id": "6facb841",
   "metadata": {},
   "outputs": [],
   "source": [
    "# Save entities output to Excel\n",
    "entities_output_path = 'entities.xlsx'\n",
    "df.to_excel(entities_output_path, index=False)"
   ]
  },
  {
   "cell_type": "markdown",
   "id": "a944d22e",
   "metadata": {},
   "source": [
    "Relationship extraction"
   ]
  },
  {
   "cell_type": "code",
   "execution_count": 19,
   "id": "99976333",
   "metadata": {},
   "outputs": [
    {
     "name": "stderr",
     "output_type": "stream",
     "text": [
      "c:\\Users\\Benjamin Kam\\AppData\\Local\\Programs\\Python\\Python311\\Lib\\site-packages\\tqdm\\auto.py:21: TqdmWarning: IProgress not found. Please update jupyter and ipywidgets. See https://ipywidgets.readthedocs.io/en/stable/user_install.html\n",
      "  from .autonotebook import tqdm as notebook_tqdm\n",
      "2025-01-31 03:56:13 WARNING: Directory C:\\Users\\Benjamin Kam\\stanza_corenlp already exists. Please install CoreNLP to a new directory.\n"
     ]
    }
   ],
   "source": [
    "import pandas as pd\n",
    "import scipy\n",
    "import spacy\n",
    "import tqdm\n",
    "import networkx as nx\n",
    "import stanza\n",
    "import matplotlib.pyplot as plt\n",
    "from transformers import pipeline\n",
    "from stanza.server import CoreNLPClient\n",
    "stanza.install_corenlp()"
   ]
  },
  {
   "cell_type": "code",
   "execution_count": 20,
   "id": "5e66b3c0",
   "metadata": {},
   "outputs": [],
   "source": [
    "# Load preprocessed data\n",
    "file_path = \"entities.xlsx\"  # Replace with your actual file path\n",
    "df = pd.read_excel(file_path)"
   ]
  },
  {
   "cell_type": "code",
   "execution_count": 21,
   "id": "d09513c3",
   "metadata": {},
   "outputs": [],
   "source": [
    "# Load SpaCy model for basic linguistic parsing\n",
    "nlp = spacy.load(\"en_core_web_sm\")"
   ]
  },
  {
   "cell_type": "code",
   "execution_count": 22,
   "id": "586d832e",
   "metadata": {},
   "outputs": [
    {
     "name": "stderr",
     "output_type": "stream",
     "text": [
      "2025-01-31 03:56:14 INFO: Writing properties to tmp file: corenlp_server-0983ed8c9cd84bac.props\n"
     ]
    }
   ],
   "source": [
    "# Set up a persistent connection to the CoreNLP server (reuse instead of restarting)\n",
    "corenlp_client = CoreNLPClient(annotators=['openie'], timeout=30000, memory='4G', be_quiet=False, endpoint='http://localhost:9000')"
   ]
  },
  {
   "cell_type": "code",
   "execution_count": 23,
   "id": "b5cc3d51",
   "metadata": {},
   "outputs": [],
   "source": [
    "# Function to extract relationships using Stanford CoreNLP\n",
    "def extract_relationships_stanford(text):\n",
    "    try:\n",
    "            ann = corenlp_client.annotate(text)\n",
    "            relationships = []\n",
    "            for sentence in ann.sentence:\n",
    "                for triple in sentence.openieTriple:\n",
    "                    relationships.append({\n",
    "                        \"entity1\": triple.subject,\n",
    "                        \"relation\": triple.relation,\n",
    "                        \"entity2\": triple.object,\n",
    "                    })\n",
    "            return relationships\n",
    "    except Exception as e:\n",
    "        print(f\"Error in Stanford CoreNLP extraction: {e}\")\n",
    "        return []"
   ]
  },
  {
   "cell_type": "code",
   "execution_count": 24,
   "id": "b240852f",
   "metadata": {},
   "outputs": [
    {
     "name": "stderr",
     "output_type": "stream",
     "text": [
      "2025-01-31 03:56:16 INFO: Starting server with command: java -Xmx4G -cp C:\\Users\\Benjamin Kam\\stanza_corenlp\\* edu.stanford.nlp.pipeline.StanfordCoreNLPServer -port 9000 -timeout 30000 -threads 5 -maxCharLength 100000 -quiet False -serverProperties corenlp_server-0983ed8c9cd84bac.props -annotators openie -preload -outputFormat serialized\n"
     ]
    }
   ],
   "source": [
    "# Apply both relationship extraction methods and store results in separate columns\n",
    "df['Stanford_Relationships'] = df['Cleaned_Text'].apply(extract_relationships_stanford)\n",
    "\n",
    "# Don't forget to close the CoreNLP client after processing\n",
    "corenlp_client.stop()"
   ]
  },
  {
   "cell_type": "code",
   "execution_count": 25,
   "id": "09356196",
   "metadata": {},
   "outputs": [],
   "source": [
    "# Save results to a new Excel file with separate columns for each model's relationships\n",
    "df.to_excel(\"relationships_extracted_separated.xlsx\", index=False)"
   ]
  },
  {
   "cell_type": "code",
   "execution_count": null,
   "id": "2344780b",
   "metadata": {},
   "outputs": [],
   "source": [
    "# import sys\n",
    "# print(sys.executable)"
   ]
  },
  {
   "cell_type": "code",
   "execution_count": null,
   "id": "d0ec022f",
   "metadata": {},
   "outputs": [],
   "source": [
    "# try:\n",
    "#     import scipy\n",
    "# except ModuleNotFoundError:\n",
    "#     print(\"The module 'scipy' is not installed.\")\n",
    "#     %pip install scipy\n",
    "#     # You can include additional instruction here, such as installing the module.\n",
    "# else:\n",
    "#     # Code to run if the module  is successfully imported\n",
    "#     print(\"Module 'scipy' is installed.\")\n"
   ]
  }
 ],
 "metadata": {
  "kernelspec": {
   "display_name": "Python 3 (ipykernel)",
   "language": "python",
   "name": "python3"
  },
  "language_info": {
   "codemirror_mode": {
    "name": "ipython",
    "version": 3
   },
   "file_extension": ".py",
   "mimetype": "text/x-python",
   "name": "python",
   "nbconvert_exporter": "python",
   "pygments_lexer": "ipython3",
   "version": "3.11.4"
  }
 },
 "nbformat": 4,
 "nbformat_minor": 5
}
